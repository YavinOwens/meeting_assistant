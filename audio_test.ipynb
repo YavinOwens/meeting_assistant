{
 "cells": [
  {
   "cell_type": "code",
   "execution_count": 1,
   "metadata": {},
   "outputs": [
    {
     "name": "stdout",
     "output_type": "stream",
     "text": [
      "I'm David Curley at the Smithsonian Air and Space Museum, where we are marking 50 years since man landed and walked on the moon in a lander just like this one. We are going to show you some of the actual ABC News coverage from 50 years ago. During that eight day mission of this remarkable achievement, Apollo Eleven's lander, the Eagle, would be the first man craft to land on the moon. For training, NASA came up with an unusual contraption. Neil Armstrong actually had to eject from it once, and then he had a couple of successful flights. ABC News anchor at the time, 50 years ago, Frank Reynolds with a look at that unusual trainer. Apollo Eleven Commander Neil Armstrong is at the controls of a lunar landing training vehicle, testing the reaction control jets. These thrusters stabilize the LEM during landing and takeoff. The LLTV is designed to simulate the behavior of the LEM as it lands in the moon's gravity. Lunar gravity is one 6th that of the Earth's. Neil ArmstroNG flew one of these vehicles on May 6, 1968, and that flight was nearly his last. Later reports by a NASA investigating team said the crash, which we'll see soon, was caused by a loss of fuel pressure compounded by a warning light that failed to work. Armstrong's coolness under pressure saved himself and possibly months of delay for the Apollo program. Later that same year, 1968, another test pilot, Joseph Allegranti, also escaped from an LLTV just before it crashed. The training vehicle then underwent several design modifications and improvements. Engineers had to increase the vehicle's rocket power to help stabilize the craft. That made the LLTV less of a moon gravity simulator, but it improved pilot safety. On June 16, 1969, Neil Armstrong flew the vehicle, sometimes called the flying bedstead, to several perfect landings. The question was, how does the machine fly? And the answer is that we're very pleased with the way it flies. It's a significant improvement over the LLRV, which we were flying here a year ago, and I think it does an, an excellent job of actually capturing the handling characteristics of the lunar module in landing maneuver. It's really a great deal different than any other kind of aircraft that I've ever flown. The simulation of lunar gravity has some aspects that make this type of flight sufficiently different from anything else we've ever done to make this vehicle very worthwhile. And I'm very pleased that I had the opportunity to get some flights in it here just before the Apollo eleven flight.\n"
     ]
    }
   ],
   "source": [
    "import assemblyai as aai\n",
    "\n",
    "aai.settings.api_key = \"a6a948bb21414991a0c8db873973f84f\"\n",
    "transcriber = aai.Transcriber()\n",
    "\n",
    "transcript = transcriber.transcribe(\"https://storage.googleapis.com/aai-web-samples/news.mp4\")\n",
    "# transcript = transcriber.transcribe(\"./my-local-audio-file.wav\")\n",
    "\n",
    "print(transcript.text)"
   ]
  },
  {
   "cell_type": "code",
   "execution_count": 2,
   "metadata": {},
   "outputs": [
    {
     "name": "stdout",
     "output_type": "stream",
     "text": [
      "Transcript saved to transcript.txt\n"
     ]
    },
    {
     "name": "stderr",
     "output_type": "stream",
     "text": [
      "/workspaces/meeting_assistant/.venv/lib/python3.10/site-packages/langchain_core/_api/deprecation.py:119: LangChainDeprecationWarning: The class `OpenAI` was deprecated in LangChain 0.0.10 and will be removed in 0.3.0. An updated version of the class exists in the langchain-openai package and should be used instead. To use it run `pip install -U langchain-openai` and import as `from langchain_openai import OpenAI`.\n",
      "  warn_deprecated(\n"
     ]
    },
    {
     "name": "stdout",
     "output_type": "stream",
     "text": [
      "Generated Insights:\n",
      "generations=[[Generation(text='1. The LLTV (Lunar Landing Training Vehicle) was designed to simulate the behavior of the LEM (Lunar Excursion Module) during landing and takeoff.\\n2. The LLTV had thrusters to stabilize the craft during landing and takeoff, with lunar gravity being one sixth of Earth\\'s gravity.\\n3. Neil Armstrong had to eject from the LLTV once during training, but later flew it successfully on June 16, 1969.\\n4. The LLTV underwent several design modifications and improvements, including increasing the rocket power for better stabilization and pilot safety.\\n5. Armstrong\\'s coolness under pressure during the LLTV crash in 1968 potentially saved months of delay for the Apollo program.\\n6. The LLTV was sometimes referred to as the \"flying bedstead\" and was significantly different from any other type of aircraft flown.\\n7. The LLTV was considered a valuable tool for simulating lunar gravity and capturing the handling characteristics of the lunar module during landing maneuver.\\n8. Joseph Allegranti also escaped from an LLTV before it crashed later in 1968, leading to further design modifications and improvements.\\n9. The LLTV was an essential part of training for the Apollo eleven mission, allowing Armstrong to successfully land the Eagle on the', generation_info={'finish_reason': 'length', 'logprobs': None})]] llm_output={'token_usage': {'completion_tokens': 256, 'total_tokens': 891, 'prompt_tokens': 635}, 'model_name': 'gpt-3.5-turbo-instruct'} run=[RunInfo(run_id=UUID('464deb8b-5d56-4e84-bfa8-543090aea924'))]\n",
      "Generated Insights:\n",
      "Transcript: I'm David Curley at the Smithsonian Air and Space Museum, where we are marking 50 years since man landed and walked on the moon in a lander just like this one. We are going to show you some of the actual ABC News coverage from 50 years ago. During that eight day mission of this remarkable achievement, Apollo Eleven's lander, the Eagle, would be the first man craft to land on the moon. For training, NASA came up with an unusual contraption. Neil Armstrong actually had to eject from it once, and then he had a couple of successful flights. ABC News anchor at the time, 50 years ago, Frank Reynolds with a look at that unusual trainer. Apollo Eleven Commander Neil Armstrong is at the controls of a lunar landing training vehicle, testing the reaction control jets. These thrusters stabilize the LEM during landing and takeoff. The LLTV is designed to simulate the behavior of the LEM as it lands in the moon's gravity. Lunar gravity is one 6th that of the Earth's. Neil ArmstroNG flew one of these vehicles on May 6, 1968, and that flight was nearly his last. Later reports by a NASA investigating team said the crash, which we'll see soon, was caused by a loss of fuel pressure compounded by a warning light that failed to work. Armstrong's coolness under pressure saved himself and possibly months of delay for the Apollo program. Later that same year, 1968, another test pilot, Joseph Allegranti, also escaped from an LLTV just before it crashed. The training vehicle then underwent several design modifications and improvements. Engineers had to increase the vehicle's rocket power to help stabilize the craft. That made the LLTV less of a moon gravity simulator, but it improved pilot safety. On June 16, 1969, Neil Armstrong flew the vehicle, sometimes called the flying bedstead, to several perfect landings. The question was, how does the machine fly? And the answer is that we're very pleased with the way it flies. It's a significant improvement over the LLRV, which we were flying here a year ago, and I think it does an, an excellent job of actually capturing the handling characteristics of the lunar module in landing maneuver. It's really a great deal different than any other kind of aircraft that I've ever flown. The simulation of lunar gravity has some aspects that make this type of flight sufficiently different from anything else we've ever done to make this vehicle very worthwhile. And I'm very pleased that I had the opportunity to get some flights in it here just before the Apollo eleven flight. Output 1: 1. The LLTV (Lunar Landing Training Vehicle) was designed to simulate the behavior of the LEM (Lunar Excursion Module) during landing and takeoff.\n",
      "2. The LLTV had thrusters to stabilize the craft during landing and takeoff, with lunar gravity being one sixth of Earth's gravity.\n",
      "3. Neil Armstrong had to eject from the LLTV once during training, but later flew it successfully on June 16, 1969.\n",
      "4. The LLTV underwent several design modifications and improvements, including increasing the rocket power for better stabilization and pilot safety.\n",
      "5. Armstrong's coolness under pressure during the LLTV crash in 1968 potentially saved months of delay for the Apollo program.\n",
      "6. The LLTV was sometimes referred to as the \"flying bedstead\" and was significantly different from any other type of aircraft flown.\n",
      "7. The LLTV was considered a valuable tool for simulating lunar gravity and capturing the handling characteristics of the lunar module during landing maneuver.\n",
      "8. Joseph Allegranti also escaped from an LLTV before it crashed later in 1968, leading to further design modifications and improvements.\n",
      "9. The LLTV was an essential part of training for the Apollo eleven mission, allowing Armstrong to successfully land the Eagle on the\n"
     ]
    }
   ],
   "source": [
    "import os\n",
    "import openai\n",
    "import assemblyai as aai\n",
    "from langchain import OpenAI\n",
    "\n",
    "OPENAI_API_KEY = \"sk-proj-3GiuUrEf2LjB5YoKjhTPT3BlbkFJilYiHt2Xui8rhzd8trOH\"\n",
    "# Set your API keys\n",
    "aai.settings.api_key = \"a6a948bb21414991a0c8db873973f84f\"\n",
    "openai.api_key = \"sk-proj-3GiuUrEf2LjB5YoKjhTPT3BlbkFJilYiHt2Xui8rhzd8trOH\"\n",
    "\n",
    "# Create a transcriber instance\n",
    "transcriber = aai.Transcriber()\n",
    "\n",
    "# Transcribe the audio/video file\n",
    "transcript = transcriber.transcribe(\"https://storage.googleapis.com/aai-web-samples/news.mp4\")\n",
    "# transcript = transcriber.transcribe(\"./my-local-audio-file.wav\")\n",
    "\n",
    "# Save the transcript to a text file\n",
    "with open(\"transcript.txt\", \"w\") as file:\n",
    "    file.write(transcript.text)\n",
    "\n",
    "print(\"Transcript saved to transcript.txt\")\n",
    "\n",
    "# Read the transcript from the text file\n",
    "with open(\"transcript.txt\", \"r\") as file:\n",
    "    saved_transcript = file.read()\n",
    "\n",
    "# Define the prompt for LangChain\n",
    "prompt = f\"\"\"\n",
    "Professional Transcription: The application should act as a professional note-taker, providing world-class transcriptions that detail both high-level and low-level points.\n",
    "Data Analytics: Offer possible solutions through data analytics, leveraging master data management principles and governance.\n",
    "Action Items: Extract and list actionable items from the transcription.\n",
    "Conversation Insights: Analyze the tone and structure of the conversation, providing insights into these aspects.\n",
    "create a new line  under each topic. use a number for each insight in the list\n",
    "\n",
    "Transcription Text:\n",
    "{saved_transcript}\n",
    "\"\"\"\n",
    "\n",
    "# Initialize LangChain with OpenAI\n",
    "llm = OpenAI(api_key=OPENAI_API_KEY,temperature=0.7)\n",
    "\n",
    "\n",
    "# Generate insights based on the prompt\n",
    "response = llm.generate([prompt])\n",
    "\n",
    "# Print the generated insights\n",
    "print(\"Generated Insights:\")\n",
    "print(response)\n",
    "\n",
    "\n",
    "print(\"Generated Insights:\")\n",
    "for idx, output in enumerate(response.generations[0]):\n",
    "    print(f\"Transcript: {saved_transcript} Output {idx + 1}: {output.text}\")"
   ]
  },
  {
   "cell_type": "code",
   "execution_count": null,
   "metadata": {},
   "outputs": [],
   "source": []
  }
 ],
 "metadata": {
  "kernelspec": {
   "display_name": ".venv",
   "language": "python",
   "name": "python3"
  },
  "language_info": {
   "codemirror_mode": {
    "name": "ipython",
    "version": 3
   },
   "file_extension": ".py",
   "mimetype": "text/x-python",
   "name": "python",
   "nbconvert_exporter": "python",
   "pygments_lexer": "ipython3",
   "version": "3.10.13"
  }
 },
 "nbformat": 4,
 "nbformat_minor": 2
}
